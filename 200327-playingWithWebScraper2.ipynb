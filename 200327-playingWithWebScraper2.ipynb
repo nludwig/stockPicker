{
 "cells": [
  {
   "cell_type": "code",
   "execution_count": 1,
   "metadata": {},
   "outputs": [],
   "source": [
    "import requests as r\n",
    "from bs4 import BeautifulSoup\n",
    "import numpy as np\n",
    "import pandas as pd\n",
    "import matplotlib.pyplot as plt\n",
    "from time import sleep"
   ]
  },
  {
   "cell_type": "code",
   "execution_count": 2,
   "metadata": {},
   "outputs": [],
   "source": [
    "#def getTradeInfo(html):\n",
    "#    cik = html.find('rptOwnerCik'.lower()).text\n",
    "#    name = html.find('rptOwnerName'.lower()).text\n",
    "#    date = [pd.to_datetime(item.text.strip()) for item in html.findAll('transactionDate'.lower())]\n",
    "#    sale = [item.text.strip() == 'D' for item in html.findAll('transactionAcquiredDisposedCode'.lower())]\n",
    "#    amount = [float(item.text.strip()) for item in html.findAll('transactionShares'.lower())]\n",
    "#    #ownedAfter = [float(item.text.strip()) for item in html.findAll('sharesOwnedFollowingTransaction'.lower())]\n",
    "#    return cik, name, date, sale, amount#, ownedAfter\n",
    "\n",
    "def getTradeInfo(html):\n",
    "    cik = html.find('rptOwnerCik'.lower()).text\n",
    "    name = html.find('rptOwnerName'.lower()).text\n",
    "    dates, sales, amounts, rsus = [], [], [], []\n",
    "    footnotes = html.find('footnotes')\n",
    "    for transaction in html.findAll('nonDerivativeTransaction'.lower()):\n",
    "        dates.append(pd.to_datetime( transaction.find('transactionDate'.lower()).text.strip() ))\n",
    "        sales.append(transaction.find('transactionAcquiredDisposedCode'.lower()).text.strip() == 'D')\n",
    "        \n",
    "        shares = transaction.find('transactionShares'.lower())\n",
    "        amounts.append(float( shares.text.strip() ))\n",
    "        footnoteNm = shares.find('footnoteId'.lower()).attrs['id']\n",
    "        footnoteTxt = footnotes.find(id=footnoteNm).text.lower()\n",
    "        rsus.append(isRSUTrade(footnoteTxt))\n",
    "    return cik, name, dates, sales, amounts, rsus\n",
    "\n",
    "def isRSUTrade(text):\n",
    "    rsuStrings = ['restricted', 'stock', 'units']\n",
    "    return all(text.find(rsuString) > -1 for rsuString in rsuStrings)\n",
    "    \n",
    "#not presently needed\n",
    "def isRealTrade(html):\n",
    "    isRSU = isRSUTrade(html)\n",
    "    isReal = (not isRSU, )\n",
    "    if all(isReal):\n",
    "        return True\n",
    "    else:\n",
    "        return False\n",
    "\n",
    "def combineListValuedDictsViaAppend(dict0, dict1):\n",
    "    combined = dict0.copy()\n",
    "    for key in dict1:\n",
    "        if key in combined:\n",
    "            combined[key] += dict1[key]\n",
    "        else:\n",
    "            combined[key] = dict1[key]\n",
    "    return combined"
   ]
  },
  {
   "cell_type": "code",
   "execution_count": 3,
   "metadata": {},
   "outputs": [],
   "source": [
    "fNm = './company.idx'\n",
    "companyNm = 'BOEING'\n",
    "formNm = '4'\n",
    "urlSuffixs = []\n",
    "with open(fNm, 'r') as f:\n",
    "    foundCompany = False\n",
    "    for line in f:\n",
    "        ls = line.split()\n",
    "        if len(ls) > 3:\n",
    "            if ls[0] == companyNm and ls[2] == formNm:\n",
    "                urlSuffixs.append(ls[-1])\n",
    "                foundCompany = True\n",
    "            elif foundCompany is True:\n",
    "                break #sorted by company"
   ]
  },
  {
   "cell_type": "code",
   "execution_count": 4,
   "metadata": {},
   "outputs": [],
   "source": [
    "urlPrefix = 'https://www.sec.gov/Archives/'\n",
    "urls = [urlPrefix + urlSuffix for urlSuffix in urlSuffixs]"
   ]
  },
  {
   "cell_type": "code",
   "execution_count": 5,
   "metadata": {},
   "outputs": [
    {
     "ename": "AttributeError",
     "evalue": "'NoneType' object has no attribute 'attrs'",
     "output_type": "error",
     "traceback": [
      "\u001b[0;31m---------------------------------------------------------------------------\u001b[0m",
      "\u001b[0;31mAttributeError\u001b[0m                            Traceback (most recent call last)",
      "\u001b[0;32m<ipython-input-5-ea5cd94b526a>\u001b[0m in \u001b[0;36m<module>\u001b[0;34m\u001b[0m\n\u001b[1;32m     20\u001b[0m     \u001b[0;32melse\u001b[0m\u001b[0;34m:\u001b[0m\u001b[0;34m\u001b[0m\u001b[0;34m\u001b[0m\u001b[0m\n\u001b[1;32m     21\u001b[0m         \u001b[0mhtml\u001b[0m \u001b[0;34m=\u001b[0m \u001b[0mBeautifulSoup\u001b[0m\u001b[0;34m(\u001b[0m\u001b[0mresponse\u001b[0m\u001b[0;34m.\u001b[0m\u001b[0mtext\u001b[0m\u001b[0;34m,\u001b[0m \u001b[0;34m'html.parser'\u001b[0m\u001b[0;34m)\u001b[0m\u001b[0;34m\u001b[0m\u001b[0;34m\u001b[0m\u001b[0m\n\u001b[0;32m---> 22\u001b[0;31m         \u001b[0mcik\u001b[0m\u001b[0;34m,\u001b[0m \u001b[0mname\u001b[0m\u001b[0;34m,\u001b[0m \u001b[0mdates\u001b[0m\u001b[0;34m,\u001b[0m \u001b[0msales\u001b[0m\u001b[0;34m,\u001b[0m \u001b[0mamounts\u001b[0m\u001b[0;34m,\u001b[0m \u001b[0mrsus\u001b[0m \u001b[0;34m=\u001b[0m \u001b[0mgetTradeInfo\u001b[0m\u001b[0;34m(\u001b[0m\u001b[0mhtml\u001b[0m\u001b[0;34m)\u001b[0m\u001b[0;34m\u001b[0m\u001b[0;34m\u001b[0m\u001b[0m\n\u001b[0m\u001b[1;32m     23\u001b[0m         \u001b[0;32mif\u001b[0m \u001b[0mcik\u001b[0m \u001b[0;32mnot\u001b[0m \u001b[0;32min\u001b[0m \u001b[0mtransactions\u001b[0m\u001b[0;34m:\u001b[0m\u001b[0;34m\u001b[0m\u001b[0;34m\u001b[0m\u001b[0m\n\u001b[1;32m     24\u001b[0m             \u001b[0mcikToName\u001b[0m\u001b[0;34m[\u001b[0m\u001b[0mcik\u001b[0m\u001b[0;34m]\u001b[0m \u001b[0;34m=\u001b[0m \u001b[0mname\u001b[0m\u001b[0;34m\u001b[0m\u001b[0;34m\u001b[0m\u001b[0m\n",
      "\u001b[0;32m<ipython-input-2-d848a66fbc58>\u001b[0m in \u001b[0;36mgetTradeInfo\u001b[0;34m(html)\u001b[0m\n\u001b[1;32m     19\u001b[0m         \u001b[0mshares\u001b[0m \u001b[0;34m=\u001b[0m \u001b[0mtransaction\u001b[0m\u001b[0;34m.\u001b[0m\u001b[0mfind\u001b[0m\u001b[0;34m(\u001b[0m\u001b[0;34m'transactionShares'\u001b[0m\u001b[0;34m.\u001b[0m\u001b[0mlower\u001b[0m\u001b[0;34m(\u001b[0m\u001b[0;34m)\u001b[0m\u001b[0;34m)\u001b[0m\u001b[0;34m\u001b[0m\u001b[0;34m\u001b[0m\u001b[0m\n\u001b[1;32m     20\u001b[0m         \u001b[0mamounts\u001b[0m\u001b[0;34m.\u001b[0m\u001b[0mappend\u001b[0m\u001b[0;34m(\u001b[0m\u001b[0mfloat\u001b[0m\u001b[0;34m(\u001b[0m \u001b[0mshares\u001b[0m\u001b[0;34m.\u001b[0m\u001b[0mtext\u001b[0m\u001b[0;34m.\u001b[0m\u001b[0mstrip\u001b[0m\u001b[0;34m(\u001b[0m\u001b[0;34m)\u001b[0m \u001b[0;34m)\u001b[0m\u001b[0;34m)\u001b[0m\u001b[0;34m\u001b[0m\u001b[0;34m\u001b[0m\u001b[0m\n\u001b[0;32m---> 21\u001b[0;31m         \u001b[0mfootnoteNm\u001b[0m \u001b[0;34m=\u001b[0m \u001b[0mshares\u001b[0m\u001b[0;34m.\u001b[0m\u001b[0mfind\u001b[0m\u001b[0;34m(\u001b[0m\u001b[0;34m'footnoteId'\u001b[0m\u001b[0;34m.\u001b[0m\u001b[0mlower\u001b[0m\u001b[0;34m(\u001b[0m\u001b[0;34m)\u001b[0m\u001b[0;34m)\u001b[0m\u001b[0;34m.\u001b[0m\u001b[0mattrs\u001b[0m\u001b[0;34m[\u001b[0m\u001b[0;34m'id'\u001b[0m\u001b[0;34m]\u001b[0m\u001b[0;34m\u001b[0m\u001b[0;34m\u001b[0m\u001b[0m\n\u001b[0m\u001b[1;32m     22\u001b[0m         \u001b[0mfootnoteTxt\u001b[0m \u001b[0;34m=\u001b[0m \u001b[0mfootnotes\u001b[0m\u001b[0;34m.\u001b[0m\u001b[0mfind\u001b[0m\u001b[0;34m(\u001b[0m\u001b[0mid\u001b[0m\u001b[0;34m=\u001b[0m\u001b[0mfootnoteNm\u001b[0m\u001b[0;34m)\u001b[0m\u001b[0;34m.\u001b[0m\u001b[0mtext\u001b[0m\u001b[0;34m.\u001b[0m\u001b[0mlower\u001b[0m\u001b[0;34m(\u001b[0m\u001b[0;34m)\u001b[0m\u001b[0;34m\u001b[0m\u001b[0;34m\u001b[0m\u001b[0m\n\u001b[1;32m     23\u001b[0m         \u001b[0mrsus\u001b[0m\u001b[0;34m.\u001b[0m\u001b[0mappend\u001b[0m\u001b[0;34m(\u001b[0m\u001b[0misRSUTrade\u001b[0m\u001b[0;34m(\u001b[0m\u001b[0mfootnoteTxt\u001b[0m\u001b[0;34m)\u001b[0m\u001b[0;34m)\u001b[0m\u001b[0;34m\u001b[0m\u001b[0;34m\u001b[0m\u001b[0m\n",
      "\u001b[0;31mAttributeError\u001b[0m: 'NoneType' object has no attribute 'attrs'"
     ]
    }
   ],
   "source": [
    "#build as\n",
    "#dict(([dates], [sales], [amounts], [ownedAfters]))[cik]\n",
    "#later transform to\n",
    "#dict(pd.dataframe[date, sale, amount, ownedAfter])[cik]\n",
    "transactions = dict()\n",
    "cikToName = dict()\n",
    "cikToUrls = dict()\n",
    "failedUrls = []\n",
    "for i, url in enumerate(urls):\n",
    "    response = r.get(url)\n",
    "    try:\n",
    "        response.raise_for_status()\n",
    "    except r.exceptions.HTTPError or \\\n",
    "           r.exceptions.ConnectionError or \\\n",
    "           r.exceptions.MaxRetryError or \\\n",
    "           NewConnectionError or \\\n",
    "           OSError:\n",
    "        print('error for url #{}'.format(i))\n",
    "        failedUrls.append(url)\n",
    "    else:\n",
    "        html = BeautifulSoup(response.text, 'html.parser')\n",
    "        cik, name, dates, sales, amounts, rsus = getTradeInfo(html)\n",
    "        if cik not in transactions:\n",
    "            cikToName[cik] = name\n",
    "            cikToUrls[cik] = []\n",
    "            transactions[cik] = {'dates': [],\n",
    "                                 'sales': [],\n",
    "                                 'amounts': [],\n",
    "                                 'rsus': []}\n",
    "        cikToUrls[cik].append(url)\n",
    "        transactions[cik]['dates'] += dates\n",
    "        transactions[cik]['sales'] += sales\n",
    "        transactions[cik]['amounts'] += amounts\n",
    "        transactions[cik]['rsus'] += rsus\n",
    "    finally:\n",
    "        sleep(1)"
   ]
  },
  {
   "cell_type": "code",
   "execution_count": null,
   "metadata": {
    "scrolled": true
   },
   "outputs": [],
   "source": [
    "print('len urls, len failedUrls, len transactions, n total transactions: {}, {}, {}, {}'.format(\n",
    "    len(urls), len(failedUrls), len(transactions),\n",
    "    sum(len(transactions[key]) for key in transactions)))\n",
    "transactions"
   ]
  },
  {
   "cell_type": "code",
   "execution_count": null,
   "metadata": {},
   "outputs": [],
   "source": [
    "#convert to dataframes & change amounts to account for transaction direction\n",
    "for cik in transactions:\n",
    "    transactions[cik] = pd.DataFrame(transactions[cik])\n",
    "    transactions[cik]['amounts'] = transactions[cik]['amounts'] * (1. - 2. * transactions[cik]['sales'])"
   ]
  },
  {
   "cell_type": "code",
   "execution_count": null,
   "metadata": {},
   "outputs": [],
   "source": [
    "print(cikToUrls['0001671300'])\n",
    "transactions['0001671300']"
   ]
  },
  {
   "cell_type": "code",
   "execution_count": null,
   "metadata": {},
   "outputs": [],
   "source": [
    "#todo:\n",
    "##fix url fails; add loop to walk thru failed urls until completion?\n",
    "##why sum(amounts) != ownedAfter?\n",
    "##add ability to pull data from multiple years/quarters\n",
    "##(1) entirely separate: walk thru index files, populate list with urls, plug into this code\n",
    "##(2) outer loop: in new outer loop, read in an index file, then run this code as inner loop\n",
    "##(3) ??\n",
    "###I like the idea of having separate parts of code do separate things [ie. like \"(1)\" above]\n",
    "##okay, let's go w/ \"(1)\" for now. \n",
    "##ideally want to have either a database or file storage system so that I don't have to grab\n",
    "##all the files from SEC every time; should just update w/ any new ones\n",
    "##(a) replace existing calls to online files with download of online files, calls to local files\n",
    "##(b) "
   ]
  },
  {
   "cell_type": "code",
   "execution_count": null,
   "metadata": {},
   "outputs": [],
   "source": []
  }
 ],
 "metadata": {
  "kernelspec": {
   "display_name": "Python 3",
   "language": "python",
   "name": "python3"
  },
  "language_info": {
   "codemirror_mode": {
    "name": "ipython",
    "version": 3
   },
   "file_extension": ".py",
   "mimetype": "text/x-python",
   "name": "python",
   "nbconvert_exporter": "python",
   "pygments_lexer": "ipython3",
   "version": "3.7.4"
  }
 },
 "nbformat": 4,
 "nbformat_minor": 2
}
