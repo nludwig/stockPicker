{
 "cells": [
  {
   "cell_type": "code",
   "execution_count": 1,
   "metadata": {},
   "outputs": [],
   "source": [
    "import requests as r\n",
    "from bs4 import BeautifulSoup\n",
    "import numpy as np\n",
    "import pandas as pd\n",
    "import matplotlib.pyplot as plt\n",
    "from time import sleep"
   ]
  },
  {
   "cell_type": "code",
   "execution_count": 6,
   "metadata": {},
   "outputs": [],
   "source": [
    "def getTradeInfo(html):\n",
    "    cik = html.find('rptOwnerCik'.lower()).text\n",
    "    name = html.find('rptOwnerName'.lower()).text\n",
    "    dates, sales, amounts, rsus = [], [], [], []\n",
    "    footnotes = html.find('footnotes')\n",
    "    for transaction in html.findAll('nonDerivativeTransaction'.lower()):\n",
    "        dates.append(pd.to_datetime( transaction.find('transactionDate'.lower()).text.strip() ))\n",
    "        sales.append(transaction.find('transactionAcquiredDisposedCode'.lower()).text.strip() == 'D')\n",
    "        \n",
    "        shares = transaction.find('transactionShares'.lower())\n",
    "        amounts.append(float( shares.text.strip() ))\n",
    "        footnoteNm = shares.find('footnoteId'.lower()).attrs['id']\n",
    "        footnoteTxt = footnotes.find(id=footnoteNm).text.lower()\n",
    "        rsus.append(isRSUTrade(footnoteTxt))\n",
    "    return cik, name, dates, sales, amounts, rsus\n",
    "\n",
    "def isRSUTrade(text):\n",
    "    rsuStrings = ['restricted', 'stock', 'units']\n",
    "    return all(text.find(rsuString) > -1 for rsuString in rsuStrings)\n",
    "\n",
    "def parsePathSuffixsFromCompanyFile(companyFile, companyName, formIndex=2, formName='4'):\n",
    "    pathSuffixs = []\n",
    "    foundCompany = False\n",
    "    for line in companyFile:\n",
    "        ls = line.split()\n",
    "        if len(ls) > 3:\n",
    "            if ls[:formIndex] == companyName.split() and ls[formIndex] == formName:\n",
    "                pathSuffixs.append(ls[-1])\n",
    "                foundCompany = True\n",
    "            elif foundCompany is True:\n",
    "                break #sorted by company\n",
    "    return pathSuffixs"
   ]
  },
  {
   "cell_type": "code",
   "execution_count": 22,
   "metadata": {},
   "outputs": [],
   "source": [
    "#parameters\n",
    "currYear = 2020\n",
    "fileNameZip, fileName = 'company.zip', 'company.idx'\n",
    "companyName = 'BOEING CO'\n",
    "formName = '4'\n",
    "years = [i for i in range(1993, currYear+1)]\n",
    "#years = [i for i in range(2018, 2021)] #test\n",
    "quarters = ['QTR{}'.format(i+1) for i in range(4)]"
   ]
  },
  {
   "cell_type": "code",
   "execution_count": 28,
   "metadata": {},
   "outputs": [
    {
     "name": "stdout",
     "output_type": "stream",
     "text": [
      "no file ./data/2018/QTR4/company.idx found\n",
      "no file ./data/2019/QTR1/company.idx found\n",
      "no file ./data/2019/QTR2/company.idx found\n",
      "no file ./data/2019/QTR3/company.idx found\n",
      "no file ./data/2019/QTR4/company.idx found\n",
      "no file ./data/2020/QTR2/company.idx found\n",
      "no file ./data/2020/QTR3/company.idx found\n",
      "no file ./data/2020/QTR4/company.idx found\n"
     ]
    }
   ],
   "source": [
    "#read local form 4's for company companyName as indexed\n",
    "#by company.idx in year/quarter/ local files into memory\n",
    "#build as\n",
    "#dict(([dates], [sales], [amounts], [ownedAfters]))[cik]\n",
    "#later transform to\n",
    "#dict(pd.dataframe[date, sale, amount, ownedAfter])[cik]\n",
    "transactions = dict()\n",
    "cikToName = dict()\n",
    "cikToPaths = dict()\n",
    "for year in years:\n",
    "    for quarter in quarters:\n",
    "        path = '/'.join(('./data', str(year), quarter, ''))\n",
    "        try:\n",
    "            with open(path + fileName, 'r') as f:\n",
    "                pathSuffixs = parsePathSuffixsFromCompanyFile(f, companyName, formName=formName)\n",
    "        except FileNotFoundError:\n",
    "            print('no file {} found'.format(path + fileName))\n",
    "        else:\n",
    "            #read from files into memory\n",
    "            for pathSuffix in pathSuffixs:\n",
    "                #pathSuffix form: 'edgar/data/.../....txt'\n",
    "                path = '/'.join(('.', pathSuffix[6:]))\n",
    "                with open(path, 'r') as f:\n",
    "                    fileText = ''.join(line for line in f)\n",
    "                html = BeautifulSoup(fileText, 'html.parser')\n",
    "                #print(html)\n",
    "                cik, name, dates, sales, amounts, rsus = getTradeInfo(html)\n",
    "                if len(dates) > 0:\n",
    "                    if cik not in transactions:\n",
    "                        cikToName[cik] = name\n",
    "                        cikToPaths[cik] = []\n",
    "                        transactions[cik] = {'dates': [],\n",
    "                                             'sales': [],\n",
    "                                             'amounts': [],\n",
    "                                             'rsus': []}\n",
    "                    cikToPaths[cik].append(path)\n",
    "                    transactions[cik]['dates'] += dates\n",
    "                    transactions[cik]['sales'] += sales\n",
    "                    transactions[cik]['amounts'] += amounts\n",
    "                    transactions[cik]['rsus'] += rsus"
   ]
  },
  {
   "cell_type": "code",
   "execution_count": 29,
   "metadata": {
    "scrolled": true
   },
   "outputs": [
    {
     "name": "stdout",
     "output_type": "stream",
     "text": [
      "1 4\n"
     ]
    },
    {
     "data": {
      "text/plain": [
       "{'0001798479': {'dates': [Timestamp('2020-01-02 00:00:00')],\n",
       "  'sales': [False],\n",
       "  'amounts': [1000.0],\n",
       "  'rsus': [True]}}"
      ]
     },
     "execution_count": 29,
     "metadata": {},
     "output_type": "execute_result"
    }
   ],
   "source": [
    "print(len(transactions),\n",
    "    sum(len(transactions[key]) for key in transactions))\n",
    "transactions"
   ]
  },
  {
   "cell_type": "code",
   "execution_count": null,
   "metadata": {},
   "outputs": [],
   "source": [
    "#convert to dataframes & change amounts to account for transaction direction\n",
    "for cik in transactions:\n",
    "    transactions[cik] = pd.DataFrame(transactions[cik])\n",
    "    transactions[cik]['amounts'] = transactions[cik]['amounts'] * (1. - 2. * transactions[cik]['sales'])"
   ]
  },
  {
   "cell_type": "code",
   "execution_count": null,
   "metadata": {},
   "outputs": [],
   "source": [
    "print(cikToUrls['0001671300'])\n",
    "transactions['0001671300']"
   ]
  },
  {
   "cell_type": "code",
   "execution_count": null,
   "metadata": {},
   "outputs": [],
   "source": [
    "#todo:\n",
    "##fix url fails; add loop to walk thru failed urls until completion?\n",
    "##why sum(amounts) != ownedAfter?\n",
    "##add ability to pull data from multiple years/quarters\n",
    "##(1) entirely separate: walk thru index files, populate list with urls, plug into this code\n",
    "##(2) outer loop: in new outer loop, read in an index file, then run this code as inner loop\n",
    "##(3) ??\n",
    "###I like the idea of having separate parts of code do separate things [ie. like \"(1)\" above]\n",
    "##okay, let's go w/ \"(1)\" for now. \n",
    "##ideally want to have either a database or file storage system so that I don't have to grab\n",
    "##all the files from SEC every time; should just update w/ any new ones\n",
    "##(a) replace existing calls to online files with download of online files, calls to local files\n",
    "##(b) "
   ]
  },
  {
   "cell_type": "code",
   "execution_count": null,
   "metadata": {},
   "outputs": [],
   "source": []
  }
 ],
 "metadata": {
  "kernelspec": {
   "display_name": "Python 3",
   "language": "python",
   "name": "python3"
  },
  "language_info": {
   "codemirror_mode": {
    "name": "ipython",
    "version": 3
   },
   "file_extension": ".py",
   "mimetype": "text/x-python",
   "name": "python",
   "nbconvert_exporter": "python",
   "pygments_lexer": "ipython3",
   "version": "3.7.4"
  }
 },
 "nbformat": 4,
 "nbformat_minor": 2
}
